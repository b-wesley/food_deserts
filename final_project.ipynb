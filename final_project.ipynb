{
 "cells": [
  {
   "cell_type": "code",
   "execution_count": 1,
   "metadata": {
    "vscode": {
     "languageId": "r"
    }
   },
   "outputs": [
    {
     "name": "stderr",
     "output_type": "stream",
     "text": [
      "-- \u001b[1mAttaching core tidyverse packages\u001b[22m ------------------------ tidyverse 2.0.0 --\n",
      "\u001b[32mv\u001b[39m \u001b[34mdplyr    \u001b[39m 1.1.4     \u001b[32mv\u001b[39m \u001b[34mreadr    \u001b[39m 2.1.5\n",
      "\u001b[32mv\u001b[39m \u001b[34mforcats  \u001b[39m 1.0.0     \u001b[32mv\u001b[39m \u001b[34mstringr  \u001b[39m 1.5.1\n",
      "\u001b[32mv\u001b[39m \u001b[34mggplot2  \u001b[39m 3.5.1     \u001b[32mv\u001b[39m \u001b[34mtibble   \u001b[39m 3.2.1\n",
      "\u001b[32mv\u001b[39m \u001b[34mlubridate\u001b[39m 1.9.3     \u001b[32mv\u001b[39m \u001b[34mtidyr    \u001b[39m 1.3.1\n",
      "\u001b[32mv\u001b[39m \u001b[34mpurrr    \u001b[39m 1.0.2     \n",
      "-- \u001b[1mConflicts\u001b[22m ------------------------------------------ tidyverse_conflicts() --\n",
      "\u001b[31mx\u001b[39m \u001b[34mdplyr\u001b[39m::\u001b[32mfilter()\u001b[39m masks \u001b[34mstats\u001b[39m::filter()\n",
      "\u001b[31mx\u001b[39m \u001b[34mdplyr\u001b[39m::\u001b[32mlag()\u001b[39m    masks \u001b[34mstats\u001b[39m::lag()\n",
      "\u001b[36mi\u001b[39m Use the conflicted package (\u001b[3m\u001b[34m<http://conflicted.r-lib.org/>\u001b[39m\u001b[23m) to force all conflicts to become errors\n",
      "\n",
      "Attaching package: 'janitor'\n",
      "\n",
      "\n",
      "The following objects are masked from 'package:stats':\n",
      "\n",
      "    chisq.test, fisher.test\n",
      "\n",
      "\n",
      "Warning message:\n",
      "\"\u001b[1m\u001b[22mOne or more parsing issues, call `problems()` on your data frame for details,\n",
      "e.g.:\n",
      "  dat <- vroom(...)\n",
      "  problems(dat)\"\n",
      "\u001b[1mRows: \u001b[22m\u001b[34m24221\u001b[39m \u001b[1mColumns: \u001b[22m\u001b[34m15\u001b[39m\n",
      "\u001b[36m--\u001b[39m \u001b[1mColumn specification\u001b[22m \u001b[36m--------------------------------------------------------\u001b[39m\n",
      "\u001b[1mDelimiter:\u001b[22m \",\"\n",
      "\u001b[31mchr\u001b[39m (12): County, License Number, Operation Type, Establishment Type, Entity...\n",
      "\u001b[32mdbl\u001b[39m  (2): Zip Code, Square Footage\n",
      "\u001b[33mlgl\u001b[39m  (1): Address Line 3\n",
      "\n",
      "\u001b[36mi\u001b[39m Use `spec()` to retrieve the full column specification for this data.\n",
      "\u001b[36mi\u001b[39m Specify the column types or set `show_col_types = FALSE` to quiet this message.\n",
      "Warning message in FUN(X[[i]], ...):\n",
      "\"unable to translate '<U+00C4>' to native encoding\"\n",
      "Warning message in FUN(X[[i]], ...):\n",
      "\"unable to translate '<U+00D6>' to native encoding\"\n",
      "Warning message in FUN(X[[i]], ...):\n",
      "\"unable to translate '<U+00DC>' to native encoding\"\n",
      "Warning message in FUN(X[[i]], ...):\n",
      "\"unable to translate '<U+00E4>' to native encoding\"\n",
      "Warning message in FUN(X[[i]], ...):\n",
      "\"unable to translate '<U+00F6>' to native encoding\"\n",
      "Warning message in FUN(X[[i]], ...):\n",
      "\"unable to translate '<U+00FC>' to native encoding\"\n",
      "Warning message in FUN(X[[i]], ...):\n",
      "\"unable to translate '<U+00DF>' to native encoding\"\n",
      "Warning message in FUN(X[[i]], ...):\n",
      "\"unable to translate '<U+00C6>' to native encoding\"\n",
      "Warning message in FUN(X[[i]], ...):\n",
      "\"unable to translate '<U+00E6>' to native encoding\"\n",
      "Warning message in FUN(X[[i]], ...):\n",
      "\"unable to translate '<U+00D8>' to native encoding\"\n",
      "Warning message in FUN(X[[i]], ...):\n",
      "\"unable to translate '<U+00F8>' to native encoding\"\n",
      "Warning message in FUN(X[[i]], ...):\n",
      "\"unable to translate '<U+00C5>' to native encoding\"\n",
      "Warning message in FUN(X[[i]], ...):\n",
      "\"unable to translate '<U+00E5>' to native encoding\"\n"
     ]
    },
    {
     "data": {
      "text/html": [
       "<table class=\"dataframe\">\n",
       "<caption>A tibble: 6 x 15</caption>\n",
       "<thead>\n",
       "\t<tr><th scope=col>county</th><th scope=col>license_number</th><th scope=col>operation_type</th><th scope=col>establishment_type</th><th scope=col>entity_name</th><th scope=col>dba_name</th><th scope=col>street_number</th><th scope=col>street_name</th><th scope=col>address_line_2</th><th scope=col>address_line_3</th><th scope=col>city</th><th scope=col>state</th><th scope=col>zip_code</th><th scope=col>square_footage</th><th scope=col>georeference</th></tr>\n",
       "\t<tr><th scope=col>&lt;chr&gt;</th><th scope=col>&lt;chr&gt;</th><th scope=col>&lt;chr&gt;</th><th scope=col>&lt;chr&gt;</th><th scope=col>&lt;chr&gt;</th><th scope=col>&lt;chr&gt;</th><th scope=col>&lt;chr&gt;</th><th scope=col>&lt;chr&gt;</th><th scope=col>&lt;chr&gt;</th><th scope=col>&lt;lgl&gt;</th><th scope=col>&lt;chr&gt;</th><th scope=col>&lt;chr&gt;</th><th scope=col>&lt;dbl&gt;</th><th scope=col>&lt;dbl&gt;</th><th scope=col>&lt;chr&gt;</th></tr>\n",
       "</thead>\n",
       "<tbody>\n",
       "\t<tr><td>KINGS </td><td>763133</td><td>Store</td><td>A</td><td>SKILLMART INC                         </td><td>SKILLMART                         </td><td>1010   </td><td>BEDFORD AVE  </td><td>NA</td><td>NA</td><td>BROOKLYN</td><td>NY</td><td>11205</td><td>NA</td><td>POINT (-73.955486796 40.690346184)</td></tr>\n",
       "\t<tr><td>BRONX </td><td>763132</td><td>Store</td><td>A</td><td><span style=white-space:pre-wrap>ARDENT PHARMACY INC                   </span></td><td><span style=white-space:pre-wrap>BENJAMINS PHARMACY &amp; SURGICAL     </span></td><td>987-989</td><td>ALLERTON AVE </td><td>NA</td><td>NA</td><td><span style=white-space:pre-wrap>BRONX   </span></td><td>NY</td><td>10469</td><td>NA</td><td>POINT (-73.858823252 40.865713996)</td></tr>\n",
       "\t<tr><td>BRONX </td><td>763012</td><td>Store</td><td>A</td><td>BALDE FAMILY GENERAL MERCHANDISING LLC</td><td>BALDE FAMILY GENERAL MERCHANDISING</td><td>756    </td><td>BURKE AVENUE </td><td>NA</td><td>NA</td><td>BRONX   </td><td>NY</td><td>10467</td><td>NA</td><td>POINT (-73.864832322 40.871259212)</td></tr>\n",
       "\t<tr><td>BRONX </td><td>763011</td><td>Store</td><td>A</td><td>ESTRELLA MEATS FRUITS &amp; GROCERY 2 CORP</td><td>ESTRELLA MEATS FRUITS &amp; GROCERY 2 </td><td><span style=white-space:pre-wrap>350    </span></td><td>E GUN HILL RD</td><td>NA</td><td>NA</td><td><span style=white-space:pre-wrap>BRONX   </span></td><td>NY</td><td>10467</td><td>NA</td><td>POINT (-73.872836453 40.878631389)</td></tr>\n",
       "\t<tr><td>QUEENS</td><td>762997</td><td>Store</td><td>A</td><td>HUA-TE NY INC                         </td><td>HUA-TE NY                         </td><td>42-14  </td><td>MAIN  ST     </td><td>NA</td><td>NA</td><td>FLUSHING</td><td>NY</td><td>11355</td><td>NA</td><td>POINT (-73.828313124 40.754958503)</td></tr>\n",
       "\t<tr><td>BRONX </td><td>762996</td><td>Store</td><td>A</td><td>ALEX CANDY STORE CORP                 </td><td>ALEX CANDY STORE                  </td><td>1373A  </td><td>OGDEN AVE    </td><td>NA</td><td>NA</td><td>BRONX   </td><td>NY</td><td>10452</td><td>NA</td><td>POINT (-73.924682128 40.841954234)</td></tr>\n",
       "</tbody>\n",
       "</table>\n"
      ],
      "text/latex": [
       "A tibble: 6 x 15\n",
       "\\begin{tabular}{lllllllllllllll}\n",
       " county & license\\_number & operation\\_type & establishment\\_type & entity\\_name & dba\\_name & street\\_number & street\\_name & address\\_line\\_2 & address\\_line\\_3 & city & state & zip\\_code & square\\_footage & georeference\\\\\n",
       " <chr> & <chr> & <chr> & <chr> & <chr> & <chr> & <chr> & <chr> & <chr> & <lgl> & <chr> & <chr> & <dbl> & <dbl> & <chr>\\\\\n",
       "\\hline\n",
       "\t KINGS  & 763133 & Store & A & SKILLMART INC                          & SKILLMART                          & 1010    & BEDFORD AVE   & NA & NA & BROOKLYN & NY & 11205 & NA & POINT (-73.955486796 40.690346184)\\\\\n",
       "\t BRONX  & 763132 & Store & A & ARDENT PHARMACY INC                    & BENJAMINS PHARMACY \\& SURGICAL      & 987-989 & ALLERTON AVE  & NA & NA & BRONX    & NY & 10469 & NA & POINT (-73.858823252 40.865713996)\\\\\n",
       "\t BRONX  & 763012 & Store & A & BALDE FAMILY GENERAL MERCHANDISING LLC & BALDE FAMILY GENERAL MERCHANDISING & 756     & BURKE AVENUE  & NA & NA & BRONX    & NY & 10467 & NA & POINT (-73.864832322 40.871259212)\\\\\n",
       "\t BRONX  & 763011 & Store & A & ESTRELLA MEATS FRUITS \\& GROCERY 2 CORP & ESTRELLA MEATS FRUITS \\& GROCERY 2  & 350     & E GUN HILL RD & NA & NA & BRONX    & NY & 10467 & NA & POINT (-73.872836453 40.878631389)\\\\\n",
       "\t QUEENS & 762997 & Store & A & HUA-TE NY INC                          & HUA-TE NY                          & 42-14   & MAIN  ST      & NA & NA & FLUSHING & NY & 11355 & NA & POINT (-73.828313124 40.754958503)\\\\\n",
       "\t BRONX  & 762996 & Store & A & ALEX CANDY STORE CORP                  & ALEX CANDY STORE                   & 1373A   & OGDEN AVE     & NA & NA & BRONX    & NY & 10452 & NA & POINT (-73.924682128 40.841954234)\\\\\n",
       "\\end{tabular}\n"
      ],
      "text/markdown": [
       "\n",
       "A tibble: 6 x 15\n",
       "\n",
       "| county &lt;chr&gt; | license_number &lt;chr&gt; | operation_type &lt;chr&gt; | establishment_type &lt;chr&gt; | entity_name &lt;chr&gt; | dba_name &lt;chr&gt; | street_number &lt;chr&gt; | street_name &lt;chr&gt; | address_line_2 &lt;chr&gt; | address_line_3 &lt;lgl&gt; | city &lt;chr&gt; | state &lt;chr&gt; | zip_code &lt;dbl&gt; | square_footage &lt;dbl&gt; | georeference &lt;chr&gt; |\n",
       "|---|---|---|---|---|---|---|---|---|---|---|---|---|---|---|\n",
       "| KINGS  | 763133 | Store | A | SKILLMART INC                          | SKILLMART                          | 1010    | BEDFORD AVE   | NA | NA | BROOKLYN | NY | 11205 | NA | POINT (-73.955486796 40.690346184) |\n",
       "| BRONX  | 763132 | Store | A | ARDENT PHARMACY INC                    | BENJAMINS PHARMACY &amp; SURGICAL      | 987-989 | ALLERTON AVE  | NA | NA | BRONX    | NY | 10469 | NA | POINT (-73.858823252 40.865713996) |\n",
       "| BRONX  | 763012 | Store | A | BALDE FAMILY GENERAL MERCHANDISING LLC | BALDE FAMILY GENERAL MERCHANDISING | 756     | BURKE AVENUE  | NA | NA | BRONX    | NY | 10467 | NA | POINT (-73.864832322 40.871259212) |\n",
       "| BRONX  | 763011 | Store | A | ESTRELLA MEATS FRUITS &amp; GROCERY 2 CORP | ESTRELLA MEATS FRUITS &amp; GROCERY 2  | 350     | E GUN HILL RD | NA | NA | BRONX    | NY | 10467 | NA | POINT (-73.872836453 40.878631389) |\n",
       "| QUEENS | 762997 | Store | A | HUA-TE NY INC                          | HUA-TE NY                          | 42-14   | MAIN  ST      | NA | NA | FLUSHING | NY | 11355 | NA | POINT (-73.828313124 40.754958503) |\n",
       "| BRONX  | 762996 | Store | A | ALEX CANDY STORE CORP                  | ALEX CANDY STORE                   | 1373A   | OGDEN AVE     | NA | NA | BRONX    | NY | 10452 | NA | POINT (-73.924682128 40.841954234) |\n",
       "\n"
      ],
      "text/plain": [
       "  county license_number operation_type establishment_type\n",
       "1 KINGS  763133         Store          A                 \n",
       "2 BRONX  763132         Store          A                 \n",
       "3 BRONX  763012         Store          A                 \n",
       "4 BRONX  763011         Store          A                 \n",
       "5 QUEENS 762997         Store          A                 \n",
       "6 BRONX  762996         Store          A                 \n",
       "  entity_name                            dba_name                          \n",
       "1 SKILLMART INC                          SKILLMART                         \n",
       "2 ARDENT PHARMACY INC                    BENJAMINS PHARMACY & SURGICAL     \n",
       "3 BALDE FAMILY GENERAL MERCHANDISING LLC BALDE FAMILY GENERAL MERCHANDISING\n",
       "4 ESTRELLA MEATS FRUITS & GROCERY 2 CORP ESTRELLA MEATS FRUITS & GROCERY 2 \n",
       "5 HUA-TE NY INC                          HUA-TE NY                         \n",
       "6 ALEX CANDY STORE CORP                  ALEX CANDY STORE                  \n",
       "  street_number street_name   address_line_2 address_line_3 city     state\n",
       "1 1010          BEDFORD AVE   NA             NA             BROOKLYN NY   \n",
       "2 987-989       ALLERTON AVE  NA             NA             BRONX    NY   \n",
       "3 756           BURKE AVENUE  NA             NA             BRONX    NY   \n",
       "4 350           E GUN HILL RD NA             NA             BRONX    NY   \n",
       "5 42-14         MAIN  ST      NA             NA             FLUSHING NY   \n",
       "6 1373A         OGDEN AVE     NA             NA             BRONX    NY   \n",
       "  zip_code square_footage georeference                      \n",
       "1 11205    NA             POINT (-73.955486796 40.690346184)\n",
       "2 10469    NA             POINT (-73.858823252 40.865713996)\n",
       "3 10467    NA             POINT (-73.864832322 40.871259212)\n",
       "4 10467    NA             POINT (-73.872836453 40.878631389)\n",
       "5 11355    NA             POINT (-73.828313124 40.754958503)\n",
       "6 10452    NA             POINT (-73.924682128 40.841954234)"
      ]
     },
     "metadata": {},
     "output_type": "display_data"
    }
   ],
   "source": [
    "library(tidyverse)\n",
    "library(janitor)\n",
    "\n",
    "stores <- read_csv(\"Retail_Food_Stores_20241129.csv\")  %>%\n",
    "  clean_names()  %>%\n",
    "  filter((city == \"NEW YORK\" | city == \"BROOKLYN\" | city == \"BRONX\" | county == \"QUEENS\" | city == \"STATEN ISLAND\") & establishment_type == \"A\") \n",
    "  #filter(county == \"QUEENS\"  & establishment_type == \"A\")\n",
    "\n",
    "\n",
    "head(stores)"
   ]
  },
  {
   "cell_type": "code",
   "execution_count": 2,
   "metadata": {
    "vscode": {
     "languageId": "r"
    }
   },
   "outputs": [],
   "source": [
    "stores  %>% write_csv(\"food_stores_filtered.csv\")"
   ]
  },
  {
   "cell_type": "code",
   "execution_count": null,
   "metadata": {
    "vscode": {
     "languageId": "r"
    }
   },
   "outputs": [],
   "source": []
  }
 ],
 "metadata": {
  "kernelspec": {
   "display_name": "R",
   "language": "R",
   "name": "ir"
  },
  "language_info": {
   "codemirror_mode": "r",
   "file_extension": ".r",
   "mimetype": "text/x-r-source",
   "name": "R",
   "pygments_lexer": "r",
   "version": "4.4.1"
  }
 },
 "nbformat": 4,
 "nbformat_minor": 2
}
